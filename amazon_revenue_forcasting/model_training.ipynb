{
 "cells": [
  {
   "cell_type": "code",
   "execution_count": 8,
   "metadata": {},
   "outputs": [
    {
     "name": "stderr",
     "output_type": "stream",
     "text": [
      "WARNING: The directory '/home/jovyan/.cache/pip' or its parent directory is not owned or is not writable by the current user. The cache has been disabled. Check the permissions and owner of that directory. If executing pip with sudo, you should use sudo's -H flag.\n"
     ]
    },
    {
     "name": "stdout",
     "output_type": "stream",
     "text": [
      "Requirement already satisfied: pystan==2.19.1.1 in /opt/conda/lib/python3.8/site-packages (2.19.1.1)\n",
      "Requirement already satisfied: fbprophet in /opt/conda/lib/python3.8/site-packages (0.7.1)\n",
      "Requirement already satisfied: numpy>=1.7 in /opt/conda/lib/python3.8/site-packages (from pystan==2.19.1.1) (1.21.1)\n",
      "Requirement already satisfied: Cython!=0.25.1,>=0.22 in /opt/conda/lib/python3.8/site-packages (from pystan==2.19.1.1) (0.29.24)\n",
      "Requirement already satisfied: cmdstanpy==0.9.5 in /opt/conda/lib/python3.8/site-packages (from fbprophet) (0.9.5)\n",
      "Requirement already satisfied: pandas>=1.0.4 in /opt/conda/lib/python3.8/site-packages (from fbprophet) (1.3.1)\n",
      "Requirement already satisfied: matplotlib>=2.0.0 in /opt/conda/lib/python3.8/site-packages (from fbprophet) (3.4.3)\n",
      "Requirement already satisfied: LunarCalendar>=0.0.9 in /opt/conda/lib/python3.8/site-packages (from fbprophet) (0.0.9)\n",
      "Requirement already satisfied: convertdate>=2.1.2 in /opt/conda/lib/python3.8/site-packages (from fbprophet) (2.3.2)\n",
      "Requirement already satisfied: holidays>=0.10.2 in /opt/conda/lib/python3.8/site-packages (from fbprophet) (0.11.3.1)\n",
      "Requirement already satisfied: setuptools-git>=1.2 in /opt/conda/lib/python3.8/site-packages (from fbprophet) (1.2)\n",
      "Requirement already satisfied: python-dateutil>=2.8.0 in /opt/conda/lib/python3.8/site-packages (from fbprophet) (2.8.2)\n",
      "Requirement already satisfied: tqdm>=4.36.1 in /opt/conda/lib/python3.8/site-packages (from fbprophet) (4.62.0)\n",
      "Requirement already satisfied: pymeeus<=1,>=0.3.13 in /opt/conda/lib/python3.8/site-packages (from convertdate>=2.1.2->fbprophet) (0.5.11)\n",
      "Requirement already satisfied: pytz>=2014.10 in /opt/conda/lib/python3.8/site-packages (from convertdate>=2.1.2->fbprophet) (2021.1)\n",
      "Requirement already satisfied: hijri-converter in /opt/conda/lib/python3.8/site-packages (from holidays>=0.10.2->fbprophet) (2.2.2)\n",
      "Requirement already satisfied: korean-lunar-calendar in /opt/conda/lib/python3.8/site-packages (from holidays>=0.10.2->fbprophet) (0.2.1)\n",
      "Requirement already satisfied: ephem>=3.7.5.3 in /opt/conda/lib/python3.8/site-packages (from LunarCalendar>=0.0.9->fbprophet) (4.1)\n",
      "Requirement already satisfied: cycler>=0.10 in /opt/conda/lib/python3.8/site-packages (from matplotlib>=2.0.0->fbprophet) (0.10.0)\n",
      "Requirement already satisfied: pillow>=6.2.0 in /opt/conda/lib/python3.8/site-packages (from matplotlib>=2.0.0->fbprophet) (8.3.2)\n",
      "Requirement already satisfied: pyparsing>=2.2.1 in /opt/conda/lib/python3.8/site-packages (from matplotlib>=2.0.0->fbprophet) (2.4.7)\n",
      "Requirement already satisfied: kiwisolver>=1.0.1 in /opt/conda/lib/python3.8/site-packages (from matplotlib>=2.0.0->fbprophet) (1.3.2)\n",
      "Requirement already satisfied: six in /opt/conda/lib/python3.8/site-packages (from cycler>=0.10->matplotlib>=2.0.0->fbprophet) (1.16.0)\n"
     ]
    },
    {
     "name": "stderr",
     "output_type": "stream",
     "text": [
      "WARNING: Running pip as the 'root' user can result in broken permissions and conflicting behaviour with the system package manager. It is recommended to use a virtual environment instead: https://pip.pypa.io/warnings/venv\n",
      "WARNING: You are using pip version 21.2.3; however, version 21.2.4 is available.\n",
      "You should consider upgrading via the '/opt/conda/bin/python -m pip install --upgrade pip' command.\n"
     ]
    },
    {
     "data": {
      "text/plain": [
       "0"
      ]
     },
     "execution_count": 8,
     "metadata": {},
     "output_type": "execute_result"
    }
   ],
   "source": [
    "import os\n",
    "os.system(\"pip install pystan==2.19.1.1\")\n",
    "os.system(\"pip install -U numpy\")\n",
    "os.system(\"pip install convertdate prophet\")"
   ]
  },
  {
   "cell_type": "code",
   "execution_count": 4,
   "metadata": {},
   "outputs": [
    {
     "name": "stderr",
     "output_type": "stream",
     "text": [
      "Importing plotly failed. Interactive plots will not work.\n"
     ]
    }
   ],
   "source": [
    "from prophet import Prophet\n",
    "import pandas as pd\n",
    "import pickle"
   ]
  },
  {
   "cell_type": "code",
   "execution_count": 5,
   "metadata": {},
   "outputs": [],
   "source": [
    "train = pd.read_csv(\"train.csv\")"
   ]
  },
  {
   "cell_type": "code",
   "execution_count": 6,
   "metadata": {},
   "outputs": [
    {
     "name": "stderr",
     "output_type": "stream",
     "text": [
      "INFO:fbprophet:Disabling weekly seasonality. Run prophet with weekly_seasonality=True to override this.\n",
      "INFO:fbprophet:Disabling daily seasonality. Run prophet with daily_seasonality=True to override this.\n"
     ]
    },
    {
     "name": "stdout",
     "output_type": "stream",
     "text": [
      "\n"
     ]
    },
    {
     "data": {
      "text/plain": [
       "<fbprophet.forecaster.Prophet at 0x7f5026406790>"
      ]
     },
     "execution_count": 6,
     "metadata": {},
     "output_type": "execute_result"
    },
    {
     "name": "stdout",
     "output_type": "stream",
     "text": [
      "Initial log joint probability = -67.5654\n",
      "Iteration  1. Log joint probability =    43.6067. Improved by 111.172.\n",
      "Iteration  2. Log joint probability =    75.9377. Improved by 32.331.\n",
      "Iteration  3. Log joint probability =    78.0606. Improved by 2.12289.\n",
      "Iteration  4. Log joint probability =     78.436. Improved by 0.37542.\n",
      "Iteration  5. Log joint probability =    78.4727. Improved by 0.0367027.\n",
      "Iteration  6. Log joint probability =    78.5233. Improved by 0.0505244.\n",
      "Iteration  7. Log joint probability =    78.9267. Improved by 0.403407.\n",
      "Iteration  8. Log joint probability =    90.2671. Improved by 11.3404.\n",
      "Iteration  9. Log joint probability =    90.4504. Improved by 0.183222.\n",
      "Iteration 10. Log joint probability =    91.8333. Improved by 1.38297.\n",
      "Iteration 11. Log joint probability =    94.0741. Improved by 2.24082.\n",
      "Iteration 12. Log joint probability =    94.4552. Improved by 0.381055.\n",
      "Iteration 13. Log joint probability =    94.9293. Improved by 0.474059.\n",
      "Iteration 14. Log joint probability =    95.4887. Improved by 0.559435.\n",
      "Iteration 15. Log joint probability =    95.5919. Improved by 0.103197.\n",
      "Iteration 16. Log joint probability =    95.6022. Improved by 0.0103447.\n",
      "Iteration 17. Log joint probability =    95.7058. Improved by 0.103605.\n",
      "Iteration 18. Log joint probability =    95.8297. Improved by 0.123828.\n",
      "Iteration 19. Log joint probability =    95.9343. Improved by 0.104603.\n",
      "Iteration 20. Log joint probability =    96.2859. Improved by 0.351665.\n",
      "Iteration 21. Log joint probability =    96.3933. Improved by 0.107338.\n",
      "Iteration 22. Log joint probability =    97.2041. Improved by 0.810846.\n",
      "Iteration 23. Log joint probability =    98.8138. Improved by 1.60965.\n",
      "Iteration 24. Log joint probability =    98.9018. Improved by 0.0879911.\n",
      "Iteration 25. Log joint probability =    98.9301. Improved by 0.0283021.\n",
      "Iteration 26. Log joint probability =    99.1626. Improved by 0.232504.\n",
      "Iteration 27. Log joint probability =    99.1897. Improved by 0.0271582.\n",
      "Iteration 28. Log joint probability =    99.2264. Improved by 0.0367282.\n",
      "Iteration 29. Log joint probability =    99.2663. Improved by 0.0398034.\n",
      "Iteration 30. Log joint probability =     99.287. Improved by 0.0207347.\n",
      "Iteration 31. Log joint probability =    99.3776. Improved by 0.0906602.\n",
      "Iteration 32. Log joint probability =    99.4082. Improved by 0.0305943.\n",
      "Iteration 33. Log joint probability =    99.6007. Improved by 0.192462.\n",
      "Iteration 34. Log joint probability =    99.6515. Improved by 0.0507625.\n",
      "Iteration 35. Log joint probability =    100.048. Improved by 0.396425.\n",
      "Iteration 36. Log joint probability =    100.141. Improved by 0.0929057.\n",
      "Iteration 37. Log joint probability =    100.947. Improved by 0.805825.\n",
      "Iteration 38. Log joint probability =    101.592. Improved by 0.645674.\n",
      "Iteration 39. Log joint probability =    101.769. Improved by 0.176411.\n",
      "Iteration 40. Log joint probability =    102.338. Improved by 0.569171.\n",
      "Iteration 41. Log joint probability =    102.348. Improved by 0.00970117.\n",
      "Iteration 42. Log joint probability =    102.362. Improved by 0.0145148.\n",
      "Iteration 43. Log joint probability =    102.525. Improved by 0.163049.\n",
      "Iteration 44. Log joint probability =    102.587. Improved by 0.0619939.\n",
      "Iteration 45. Log joint probability =     107.95. Improved by 5.3632.\n",
      "Iteration 46. Log joint probability =    108.018. Improved by 0.0672728.\n",
      "Iteration 47. Log joint probability =     113.65. Improved by 5.6326.\n",
      "Iteration 48. Log joint probability =    113.672. Improved by 0.0214329.\n",
      "Iteration 49. Log joint probability =    113.719. Improved by 0.0469655.\n",
      "Iteration 50. Log joint probability =    115.981. Improved by 2.26266.\n",
      "Iteration 51. Log joint probability =    118.354. Improved by 2.37321.\n",
      "Iteration 52. Log joint probability =    119.785. Improved by 1.43022.\n",
      "Iteration 53. Log joint probability =    120.519. Improved by 0.73447.\n",
      "Iteration 54. Log joint probability =    121.466. Improved by 0.946363.\n",
      "Iteration 55. Log joint probability =    121.846. Improved by 0.380939.\n",
      "Iteration 56. Log joint probability =      121.9. Improved by 0.0532602.\n",
      "Iteration 57. Log joint probability =    121.918. Improved by 0.0179388.\n",
      "Iteration 58. Log joint probability =    121.958. Improved by 0.0401357.\n",
      "Iteration 59. Log joint probability =    122.061. Improved by 0.102864.\n",
      "Iteration 60. Log joint probability =    122.074. Improved by 0.0136533.\n",
      "Iteration 61. Log joint probability =    122.521. Improved by 0.446575.\n",
      "Iteration 62. Log joint probability =    124.649. Improved by 2.1282.\n",
      "Iteration 63. Log joint probability =    125.214. Improved by 0.564993.\n",
      "Iteration 64. Log joint probability =     130.29. Improved by 5.07624.\n",
      "Iteration 65. Log joint probability =    133.343. Improved by 3.05295.\n",
      "Iteration 66. Log joint probability =    133.872. Improved by 0.528353.\n",
      "Iteration 67. Log joint probability =    134.817. Improved by 0.945127.\n",
      "Iteration 68. Log joint probability =    137.187. Improved by 2.37038.\n",
      "Iteration 69. Log joint probability =    137.743. Improved by 0.556027.\n",
      "Iteration 70. Log joint probability =    138.269. Improved by 0.525474.\n",
      "Iteration 71. Log joint probability =    138.348. Improved by 0.0793251.\n",
      "Iteration 72. Log joint probability =    138.416. Improved by 0.0684274.\n",
      "Iteration 73. Log joint probability =    138.719. Improved by 0.302596.\n",
      "Iteration 74. Log joint probability =    138.818. Improved by 0.0991255.\n",
      "Iteration 75. Log joint probability =    138.951. Improved by 0.132895.\n",
      "Iteration 76. Log joint probability =    139.022. Improved by 0.0712626.\n",
      "Iteration 77. Log joint probability =    139.192. Improved by 0.170174.\n",
      "Iteration 78. Log joint probability =      139.2. Improved by 0.00792052.\n",
      "Iteration 79. Log joint probability =    139.404. Improved by 0.204103.\n",
      "Iteration 80. Log joint probability =    139.425. Improved by 0.0203057.\n",
      "Iteration 81. Log joint probability =    139.437. Improved by 0.0127006.\n",
      "Iteration 82. Log joint probability =    139.446. Improved by 0.0081265.\n",
      "Iteration 83. Log joint probability =    139.449. Improved by 0.00316805.\n",
      "Iteration 84. Log joint probability =    139.452. Improved by 0.00352711.\n",
      "Iteration 85. Log joint probability =    139.455. Improved by 0.00246229.\n",
      "Iteration 86. Log joint probability =    139.456. Improved by 0.00115244.\n",
      "Iteration 87. Log joint probability =    139.456. Improved by 0.00031509.\n",
      "Iteration 88. Log joint probability =    139.458. Improved by 0.00181086.\n",
      "Iteration 89. Log joint probability =     139.46. Improved by 0.00188823.\n",
      "Iteration 90. Log joint probability =     139.46. Improved by 6.81563e-05.\n",
      "Iteration 91. Log joint probability =    139.461. Improved by 0.00124831.\n",
      "Iteration 92. Log joint probability =    139.461. Improved by 0.000167432.\n",
      "Iteration 93. Log joint probability =    139.463. Improved by 0.00136918.\n",
      "Iteration 94. Log joint probability =    139.465. Improved by 0.00215966.\n",
      "Iteration 95. Log joint probability =    139.465. Improved by 0.000457046.\n",
      "Iteration 96. Log joint probability =    139.467. Improved by 0.00117291.\n",
      "Iteration 97. Log joint probability =    139.467. Improved by 0.000459943.\n",
      "Iteration 98. Log joint probability =    139.467. Improved by 0.000132494.\n",
      "Iteration 99. Log joint probability =    139.468. Improved by 0.000980764.\n",
      "Iteration 100. Log joint probability =    139.468. Improved by 0.000201183.\n",
      "Iteration 101. Log joint probability =    139.468. Improved by 9.11348e-05.\n",
      "Iteration 102. Log joint probability =    139.468. Improved by 5.76946e-05.\n",
      "Iteration 103. Log joint probability =    139.469. Improved by 0.000186777.\n",
      "Iteration 104. Log joint probability =    139.469. Improved by 0.000356718.\n",
      "Iteration 105. Log joint probability =    139.469. Improved by 0.000149934.\n",
      "Iteration 106. Log joint probability =    139.469. Improved by 0.000127861.\n",
      "Iteration 107. Log joint probability =    139.469. Improved by 3.10021e-05.\n",
      "Iteration 108. Log joint probability =    139.469. Improved by 4.18761e-06.\n",
      "Iteration 109. Log joint probability =    139.469. Improved by 2.7133e-05.\n",
      "Iteration 110. Log joint probability =    139.469. Improved by 2.26867e-06.\n",
      "Iteration 111. Log joint probability =    139.469. Improved by 1.8695e-05.\n",
      "Iteration 112. Log joint probability =    139.469. Improved by 1.32664e-06.\n",
      "Iteration 113. Log joint probability =    139.469. Improved by 9.3314e-06.\n",
      "Iteration 114. Log joint probability =    139.469. Improved by 1.34377e-05.\n",
      "Iteration 115. Log joint probability =    139.469. Improved by 2.70572e-06.\n",
      "Iteration 116. Log joint probability =    139.469. Improved by 6.98237e-06.\n",
      "Iteration 117. Log joint probability =    139.469. Improved by 1.06821e-05.\n",
      "Iteration 118. Log joint probability =    139.469. Improved by 1.19642e-05.\n",
      "Iteration 119. Log joint probability =    139.469. Improved by 2.87768e-06.\n",
      "Iteration 120. Log joint probability =    139.469. Improved by 2.52796e-06.\n",
      "Iteration 121. Log joint probability =    139.469. Improved by 2.97433e-06.\n",
      "Iteration 122. Log joint probability =    139.469. Improved by 7.53705e-06.\n",
      "Iteration 123. Log joint probability =    139.469. Improved by 7.26373e-06.\n",
      "Iteration 124. Log joint probability =    139.469. Improved by 9.72211e-06.\n",
      "Iteration 125. Log joint probability =    139.469. Improved by 1.43602e-05.\n",
      "Iteration 126. Log joint probability =    139.469. Improved by 6.51457e-06.\n",
      "Iteration 127. Log joint probability =     139.47. Improved by 7.5101e-06.\n",
      "Iteration 128. Log joint probability =     139.47. Improved by 6.99391e-07.\n",
      "Iteration 129. Log joint probability =     139.47. Improved by 6.82445e-06.\n",
      "Iteration 130. Log joint probability =     139.47. Improved by 3.024e-06.\n",
      "Iteration 131. Log joint probability =     139.47. Improved by 2.72013e-06.\n",
      "Iteration 132. Log joint probability =     139.47. Improved by 2.68645e-06.\n",
      "Iteration 133. Log joint probability =     139.47. Improved by 3.75505e-06.\n",
      "Iteration 134. Log joint probability =     139.47. Improved by 1.07047e-06.\n",
      "Iteration 135. Log joint probability =     139.47. Improved by 1.30481e-06.\n",
      "Iteration 136. Log joint probability =     139.47. Improved by 4.33901e-06.\n",
      "Iteration 137. Log joint probability =     139.47. Improved by 9.03128e-06.\n",
      "Iteration 138. Log joint probability =     139.47. Improved by 3.54059e-06.\n",
      "Iteration 139. Log joint probability =     139.47. Improved by 5.64056e-07.\n",
      "Iteration 140. Log joint probability =     139.47. Improved by 5.70447e-06.\n",
      "Iteration 141. Log joint probability =     139.47. Improved by 7.99067e-07.\n",
      "Iteration 142. Log joint probability =     139.47. Improved by 2.86061e-06.\n",
      "Iteration 143. Log joint probability =     139.47. Improved by 4.74176e-07.\n",
      "Iteration 144. Log joint probability =     139.47. Improved by 3.64937e-07.\n",
      "Iteration 145. Log joint probability =     139.47. Improved by 3.107e-07.\n",
      "Iteration 146. Log joint probability =     139.47. Improved by 8.85572e-07.\n",
      "Iteration 147. Log joint probability =     139.47. Improved by 4.02157e-07.\n",
      "Iteration 148. Log joint probability =     139.47. Improved by 1.52865e-07.\n",
      "Iteration 149. Log joint probability =     139.47. Improved by 9.69231e-07.\n",
      "Iteration 150. Log joint probability =     139.47. Improved by 2.30399e-07.\n",
      "Iteration 151. Log joint probability =     139.47. Improved by 2.6148e-07.\n",
      "Iteration 152. Log joint probability =     139.47. Improved by 1.88219e-07.\n",
      "Iteration 153. Log joint probability =     139.47. Improved by 2.13362e-07.\n",
      "Iteration 154. Log joint probability =     139.47. Improved by 2.55837e-08.\n",
      "Iteration 155. Log joint probability =     139.47. Improved by 2.21925e-07.\n",
      "Iteration 156. Log joint probability =     139.47. Improved by 9.13996e-08.\n",
      "Iteration 157. Log joint probability =     139.47. Improved by 1.18378e-07.\n",
      "Iteration 158. Log joint probability =     139.47. Improved by 1.10476e-07.\n",
      "Iteration 159. Log joint probability =     139.47. Improved by 8.46812e-08.\n",
      "Iteration 160. Log joint probability =     139.47. Improved by 5.55801e-08.\n",
      "Iteration 161. Log joint probability =     139.47. Improved by 8.8777e-08.\n",
      "Iteration 162. Log joint probability =     139.47. Improved by 1.63853e-08.\n",
      "Iteration 163. Log joint probability =     139.47. Improved by 1.5682e-08.\n",
      "Iteration 164. Log joint probability =     139.47. Improved by 2.46253e-08.\n",
      "Iteration 165. Log joint probability =     139.47. Improved by 1.02133e-08.\n",
      "Iteration 166. Log joint probability =     139.47. Improved by 1.2838e-08.\n",
      "Iteration 167. Log joint probability =     139.47. Improved by 1.18786e-08.\n",
      "Iteration 168. Log joint probability =     139.47. Improved by 4.57232e-08.\n",
      "Iteration 169. Log joint probability =     139.47. Improved by 6.86444e-09.\n"
     ]
    }
   ],
   "source": [
    "model=Prophet(interval_width=0.95)\n",
    "model.fit(train)"
   ]
  },
  {
   "cell_type": "code",
   "execution_count": 7,
   "metadata": {},
   "outputs": [],
   "source": [
    "with open(\"model.pkl\", \"wb\") as f:\n",
    "    pickle.dump(model, f)"
   ]
  },
  {
   "cell_type": "code",
   "execution_count": null,
   "metadata": {},
   "outputs": [],
   "source": []
  }
 ],
 "metadata": {
  "kernelspec": {
   "display_name": "Python 3 (ipykernel)",
   "language": "python",
   "name": "python3"
  },
  "kubeflow_notebook": {
   "autosnapshot": false,
   "docker_image": "",
   "experiment": {
    "id": "",
    "name": ""
   },
   "experiment_name": "",
   "katib_metadata": {
    "algorithm": {
     "algorithmName": "grid"
    },
    "maxFailedTrialCount": 3,
    "maxTrialCount": 12,
    "objective": {
     "objectiveMetricName": "",
     "type": "minimize"
    },
    "parallelTrialCount": 3,
    "parameters": []
   },
   "katib_run": false,
   "pipeline_description": "",
   "pipeline_name": "",
   "snapshot_volumes": false,
   "steps_defaults": [],
   "volume_access_mode": "rwm",
   "volumes": []
  },
  "language_info": {
   "codemirror_mode": {
    "name": "ipython",
    "version": 3
   },
   "file_extension": ".py",
   "mimetype": "text/x-python",
   "name": "python",
   "nbconvert_exporter": "python",
   "pygments_lexer": "ipython3",
   "version": "3.8.6"
  }
 },
 "nbformat": 4,
 "nbformat_minor": 4
}
