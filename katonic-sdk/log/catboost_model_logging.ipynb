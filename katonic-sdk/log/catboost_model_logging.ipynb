{
 "cells": [
  {
   "cell_type": "markdown",
   "id": "e113d123",
   "metadata": {},
   "source": [
    "## Log a Catboost Model"
   ]
  },
  {
   "cell_type": "markdown",
   "id": "96e568cf",
   "metadata": {},
   "source": [
    "Train and Log a Custom built Catboost Model with Katonic-SDK Log package."
   ]
  },
  {
   "cell_type": "code",
   "execution_count": null,
   "id": "ce2bb6ea",
   "metadata": {
    "tags": []
   },
   "outputs": [],
   "source": [
    "!pip install catboost -q"
   ]
  },
  {
   "cell_type": "markdown",
   "id": "d24438e2",
   "metadata": {},
   "source": [
    "### Imports"
   ]
  },
  {
   "cell_type": "code",
   "execution_count": 1,
   "id": "7bc23232",
   "metadata": {},
   "outputs": [],
   "source": [
    "import os\n",
    "\n",
    "import pandas as pd\n",
    "from catboost import CatBoostClassifier\n",
    "\n",
    "from sklearn.model_selection import train_test_split\n",
    "from sklearn.metrics import accuracy_score, roc_auc_score, log_loss, recall_score, f1_score, precision_score\n",
    "from katonic.log.logmodel import LogModel"
   ]
  },
  {
   "cell_type": "markdown",
   "id": "e461e01f",
   "metadata": {},
   "source": [
    "### Experiment Name"
   ]
  },
  {
   "cell_type": "code",
   "execution_count": 2,
   "id": "479d031c",
   "metadata": {},
   "outputs": [],
   "source": [
    "experiment_name= \"custom_catboost_model\""
   ]
  },
  {
   "cell_type": "markdown",
   "id": "4b29e00a",
   "metadata": {},
   "source": [
    "### Initiate LogModel with experiment name"
   ]
  },
  {
   "cell_type": "code",
   "execution_count": null,
   "id": "b1069686",
   "metadata": {},
   "outputs": [],
   "source": [
    "lm = LogModel(experiment_name, source_name='catboost_model_logging.ipynb')"
   ]
  },
  {
   "cell_type": "markdown",
   "id": "ede61895",
   "metadata": {},
   "source": [
    "### Check Metadata of the created / existing experiment"
   ]
  },
  {
   "cell_type": "code",
   "execution_count": null,
   "id": "3e24dac5",
   "metadata": {},
   "outputs": [],
   "source": [
    "# experiment id\n",
    "exp_id = lm.id\n",
    "\n",
    "print(\"experiment name: \", lm.name)\n",
    "print(\"experiment location: \", lm.location)\n",
    "print(\"experiment id: \", lm.id)\n",
    "print(\"experiment status: \", lm.stage)"
   ]
  },
  {
   "cell_type": "markdown",
   "id": "d7db37d2",
   "metadata": {},
   "source": [
    "### Artifact path where you want to log your model"
   ]
  },
  {
   "cell_type": "code",
   "execution_count": 6,
   "id": "5df0d4d9",
   "metadata": {},
   "outputs": [],
   "source": [
    "artifact_path = \"catboost-model\""
   ]
  },
  {
   "cell_type": "markdown",
   "id": "d2869a3a",
   "metadata": {},
   "source": [
    "### Load Training Data"
   ]
  },
  {
   "cell_type": "code",
   "execution_count": null,
   "id": "1d89f670",
   "metadata": {},
   "outputs": [],
   "source": [
    "df = pd.read_csv('https://raw.githubusercontent.com/plotly/datasets/master/diabetes.csv')\n",
    "df.head()"
   ]
  },
  {
   "cell_type": "markdown",
   "id": "15e94167",
   "metadata": {},
   "source": [
    "### Get features and labels"
   ]
  },
  {
   "cell_type": "code",
   "execution_count": 8,
   "id": "9545e3d7",
   "metadata": {},
   "outputs": [],
   "source": [
    "x = df.drop(columns=['Outcome'], axis=1)\n",
    "y = df['Outcome']"
   ]
  },
  {
   "cell_type": "markdown",
   "id": "50fdb9e2",
   "metadata": {},
   "source": [
    "## Split the dataset in Train and Test"
   ]
  },
  {
   "cell_type": "code",
   "execution_count": 9,
   "id": "797f2dde",
   "metadata": {},
   "outputs": [],
   "source": [
    "X_train, X_test, y_train, y_test = train_test_split(x, y, test_size=.20, random_state=98)"
   ]
  },
  {
   "cell_type": "markdown",
   "id": "7e2f2905",
   "metadata": {},
   "source": [
    "### Define Evaluation Metrics"
   ]
  },
  {
   "cell_type": "code",
   "execution_count": 10,
   "id": "886564d2",
   "metadata": {},
   "outputs": [],
   "source": [
    "def metric(actual, pred):\n",
    "    acc_score = accuracy_score(actual, pred)\n",
    "    recall = recall_score(actual, pred)\n",
    "    precision_scr = precision_score(actual, pred)\n",
    "    f1_scr = f1_score(actual, pred)\n",
    "    auc_roc = roc_auc_score(actual, pred)\n",
    "    log_los = log_loss(actual, pred)\n",
    "\n",
    "    return (\n",
    "        acc_score,\n",
    "        auc_roc,\n",
    "        log_los,\n",
    "        recall,\n",
    "        f1_scr,\n",
    "        precision_scr\n",
    "    )"
   ]
  },
  {
   "cell_type": "markdown",
   "id": "0b3c90bd",
   "metadata": {},
   "source": [
    "### Train Xgboost Model"
   ]
  },
  {
   "cell_type": "code",
   "execution_count": null,
   "id": "90a36b9c",
   "metadata": {},
   "outputs": [],
   "source": [
    "model_clf = CatBoostClassifier(random_state=0)\n",
    "model_clf.fit(X_train, y_train)"
   ]
  },
  {
   "cell_type": "markdown",
   "id": "7984eee0",
   "metadata": {},
   "source": [
    "### Calculate metrics for the Catboost model"
   ]
  },
  {
   "cell_type": "code",
   "execution_count": 12,
   "id": "b0882f10",
   "metadata": {},
   "outputs": [],
   "source": [
    "y_pred = model_clf.predict(X_test)\n",
    "(acc_score, auc_roc, log_los, recall, f1_scr, precision_scr) = metric(y_test, y_pred)\n",
    "\n",
    "model_mertics = {\n",
    "    \"accuracy_score\": acc_score,\n",
    "    \"roc_auc_score\": auc_roc,\n",
    "    \"log_loss\": log_los,\n",
    "    \"recall\": recall,\n",
    "    \"f1_score\": f1_scr,\n",
    "    \"precision_score\": precision_scr\n",
    "}"
   ]
  },
  {
   "cell_type": "markdown",
   "id": "2680488a",
   "metadata": {},
   "source": [
    "### Log Catboost Model"
   ]
  },
  {
   "cell_type": "code",
   "execution_count": null,
   "id": "105a167f",
   "metadata": {},
   "outputs": [],
   "source": [
    "lm.model_logging(\n",
    "    model_name=\"catboost\",\n",
    "    model_type=\"catboost\",\n",
    "    model=model_clf,\n",
    "    artifact_path=artifact_path,\n",
    "    current_working_dir=f'{os.getcwd()}/catboost_model_logging.ipynb',\n",
    "    metrics=model_mertics\n",
    ")"
   ]
  },
  {
   "cell_type": "markdown",
   "id": "6363339e",
   "metadata": {},
   "source": [
    "### Check all the logged Models"
   ]
  },
  {
   "cell_type": "code",
   "execution_count": null,
   "id": "5016be8c",
   "metadata": {},
   "outputs": [],
   "source": [
    "df_runs = lm.search_runs(exp_id)\n",
    "print(\"Number of runs done : \", len(df_runs))"
   ]
  },
  {
   "cell_type": "code",
   "execution_count": null,
   "id": "dcd4b215",
   "metadata": {},
   "outputs": [],
   "source": [
    "df_runs.head()"
   ]
  }
 ],
 "metadata": {
  "kernelspec": {
   "display_name": "Python 3 (ipykernel)",
   "language": "python",
   "name": "python3"
  },
  "kubeflow_notebook": {
   "autosnapshot": false,
   "docker_image": "",
   "experiment": {
    "id": "",
    "name": ""
   },
   "experiment_name": "",
   "katib_run": false,
   "pipeline_description": "",
   "pipeline_name": "",
   "snapshot_volumes": false,
   "steps_defaults": [],
   "volume_access_mode": "rwm",
   "volumes": []
  },
  "language_info": {
   "codemirror_mode": {
    "name": "ipython",
    "version": 3
   },
   "file_extension": ".py",
   "mimetype": "text/x-python",
   "name": "python",
   "nbconvert_exporter": "python",
   "pygments_lexer": "ipython3",
   "version": "3.9.7"
  }
 },
 "nbformat": 4,
 "nbformat_minor": 5
}
