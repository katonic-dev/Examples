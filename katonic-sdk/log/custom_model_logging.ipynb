{
 "cells": [
  {
   "cell_type": "markdown",
   "id": "bdb59b50",
   "metadata": {},
   "source": [
    "## Log a Custom Machine Learning Model"
   ]
  },
  {
   "cell_type": "markdown",
   "id": "8a26f548",
   "metadata": {},
   "source": [
    "Log a Custom Machine Learning Model with Katonic-SDK Log package."
   ]
  },
  {
   "cell_type": "markdown",
   "id": "24b61660",
   "metadata": {},
   "source": [
    "### Imports"
   ]
  },
  {
   "cell_type": "code",
   "execution_count": 1,
   "id": "52d54666",
   "metadata": {},
   "outputs": [],
   "source": [
    "import os\n",
    "\n",
    "import mlflow.pyfunc\n",
    "from katonic.log.logmodel import LogModel"
   ]
  },
  {
   "cell_type": "markdown",
   "id": "1851c339",
   "metadata": {},
   "source": [
    "### Experiment Name"
   ]
  },
  {
   "cell_type": "code",
   "execution_count": 2,
   "id": "b7d24f25",
   "metadata": {},
   "outputs": [],
   "source": [
    "experiment_name = \"custom_model\""
   ]
  },
  {
   "cell_type": "markdown",
   "id": "2e182b34",
   "metadata": {},
   "source": [
    "### Initiate LogModel with experiment name"
   ]
  },
  {
   "cell_type": "code",
   "execution_count": 4,
   "id": "6e7439b7",
   "metadata": {
    "tags": []
   },
   "outputs": [
    {
     "name": "stderr",
     "output_type": "stream",
     "text": [
      "2023/10/24 03:20:02 INFO mlflow.tracking.fluent: Experiment with name 'custom_model' does not exist. Creating a new experiment.\n"
     ]
    }
   ],
   "source": [
    "lm = LogModel(experiment_name, source_name='custom_model_logging.ipynb', features=[])"
   ]
  },
  {
   "cell_type": "markdown",
   "id": "da7a310f",
   "metadata": {},
   "source": [
    "### Metadata of the created / existing experiment"
   ]
  },
  {
   "cell_type": "code",
   "execution_count": 5,
   "id": "361b5179",
   "metadata": {},
   "outputs": [
    {
     "name": "stdout",
     "output_type": "stream",
     "text": [
      "experiment name :  custom_model\n",
      "experiment location :  s3://models/16\n",
      "experiment id :  16\n",
      "experiment status :  active\n"
     ]
    }
   ],
   "source": [
    "# experiment id\n",
    "exp_id = lm.id\n",
    "\n",
    "print(\"experiment name : \", lm.name)\n",
    "print(\"experiment location : \", lm.location)\n",
    "print(\"experiment id : \", lm.id)\n",
    "print(\"experiment status : \", lm.stage)"
   ]
  },
  {
   "cell_type": "markdown",
   "id": "301eb205",
   "metadata": {},
   "source": [
    "### Artifact path where you want to log your model"
   ]
  },
  {
   "cell_type": "code",
   "execution_count": 6,
   "id": "81b154a2",
   "metadata": {},
   "outputs": [],
   "source": [
    "artifact_path = \"custom-model-log\""
   ]
  },
  {
   "cell_type": "markdown",
   "id": "1e200255",
   "metadata": {},
   "source": [
    "### Custom Model"
   ]
  },
  {
   "cell_type": "code",
   "execution_count": 7,
   "id": "4d436839",
   "metadata": {},
   "outputs": [],
   "source": [
    "# Define your custom model\n",
    "class AddN(mlflow.pyfunc.PythonModel):\n",
    "\n",
    "    def __init__(self, n):\n",
    "        self.n = n\n",
    "\n",
    "    def predict(self, context, model_input):\n",
    "        return model_input.apply(lambda column: column + self.n)"
   ]
  },
  {
   "cell_type": "code",
   "execution_count": 8,
   "id": "f15c87f5",
   "metadata": {},
   "outputs": [],
   "source": [
    "add5_model = AddN(n=5)"
   ]
  },
  {
   "cell_type": "markdown",
   "id": "5c9363e2",
   "metadata": {},
   "source": [
    "### Log Custom Model"
   ]
  },
  {
   "cell_type": "code",
   "execution_count": 9,
   "id": "3d1e702a",
   "metadata": {},
   "outputs": [
    {
     "name": "stdout",
     "output_type": "stream",
     "text": [
      "Model artifact logged to: s3://models/16/50ac6cf1e57b4435b0184ec0c507873c/artifacts/custom_model_16_custom-model-log_add_n\n"
     ]
    }
   ],
   "source": [
    "lm.model_logging(\n",
    "    model_name=\"add_n\",\n",
    "    model_type=\"custom-model\",\n",
    "    model=add5_model,\n",
    "    artifact_path=artifact_path,\n",
    "    current_working_dir=f'{os.getcwd()}/custom_model_logging.ipynb'\n",
    ")"
   ]
  },
  {
   "cell_type": "markdown",
   "id": "fe30f98f",
   "metadata": {},
   "source": [
    "### Check Loaded Models"
   ]
  },
  {
   "cell_type": "code",
   "execution_count": 10,
   "id": "cd2fb0cd",
   "metadata": {},
   "outputs": [
    {
     "name": "stdout",
     "output_type": "stream",
     "text": [
      "Number of runs done :  1\n"
     ]
    }
   ],
   "source": [
    "df_runs = lm.search_runs(exp_id)\n",
    "print(\"Number of runs done : \", len(df_runs))"
   ]
  },
  {
   "cell_type": "code",
   "execution_count": 11,
   "id": "10cfb5cd",
   "metadata": {},
   "outputs": [
    {
     "data": {
      "text/html": [
       "<div>\n",
       "<style scoped>\n",
       "    .dataframe tbody tr th:only-of-type {\n",
       "        vertical-align: middle;\n",
       "    }\n",
       "\n",
       "    .dataframe tbody tr th {\n",
       "        vertical-align: top;\n",
       "    }\n",
       "\n",
       "    .dataframe thead th {\n",
       "        text-align: right;\n",
       "    }\n",
       "</style>\n",
       "<table border=\"1\" class=\"dataframe\">\n",
       "  <thead>\n",
       "    <tr style=\"text-align: right;\">\n",
       "      <th></th>\n",
       "      <th>artifact_uri</th>\n",
       "      <th>end_time</th>\n",
       "      <th>experiment_id</th>\n",
       "      <th>run_id</th>\n",
       "      <th>run_name</th>\n",
       "      <th>start_time</th>\n",
       "      <th>status</th>\n",
       "      <th>tags.data_path</th>\n",
       "      <th>tags.experiment_id</th>\n",
       "      <th>tags.experiment_name</th>\n",
       "      <th>tags.features</th>\n",
       "      <th>tags.mlflow.log-model.history</th>\n",
       "      <th>tags.run_id</th>\n",
       "      <th>tags.version.mlflow</th>\n",
       "    </tr>\n",
       "  </thead>\n",
       "  <tbody>\n",
       "    <tr>\n",
       "      <th>0</th>\n",
       "      <td>s3://models/16/50ac6cf1e57b4435b0184ec0c507873...</td>\n",
       "      <td>2023-10-24 03:20:12.114000+00:00</td>\n",
       "      <td>16</td>\n",
       "      <td>50ac6cf1e57b4435b0184ec0c507873c</td>\n",
       "      <td>custom_model_16_custom-model-log_add_n</td>\n",
       "      <td>2023-10-24 03:20:09.978000+00:00</td>\n",
       "      <td>FINISHED</td>\n",
       "      <td>-</td>\n",
       "      <td>16</td>\n",
       "      <td>custom_model</td>\n",
       "      <td>[]</td>\n",
       "      <td>[{\"run_id\": \"50ac6cf1e57b4435b0184ec0c507873c\"...</td>\n",
       "      <td>50ac6cf1e57b4435b0184ec0c507873c</td>\n",
       "      <td>2.0.1</td>\n",
       "    </tr>\n",
       "  </tbody>\n",
       "</table>\n",
       "</div>"
      ],
      "text/plain": [
       "                                        artifact_uri  \\\n",
       "0  s3://models/16/50ac6cf1e57b4435b0184ec0c507873...   \n",
       "\n",
       "                          end_time experiment_id  \\\n",
       "0 2023-10-24 03:20:12.114000+00:00            16   \n",
       "\n",
       "                             run_id                                run_name  \\\n",
       "0  50ac6cf1e57b4435b0184ec0c507873c  custom_model_16_custom-model-log_add_n   \n",
       "\n",
       "                        start_time    status tags.data_path  \\\n",
       "0 2023-10-24 03:20:09.978000+00:00  FINISHED              -   \n",
       "\n",
       "  tags.experiment_id tags.experiment_name tags.features  \\\n",
       "0                 16         custom_model            []   \n",
       "\n",
       "                       tags.mlflow.log-model.history  \\\n",
       "0  [{\"run_id\": \"50ac6cf1e57b4435b0184ec0c507873c\"...   \n",
       "\n",
       "                        tags.run_id tags.version.mlflow  \n",
       "0  50ac6cf1e57b4435b0184ec0c507873c               2.0.1  "
      ]
     },
     "execution_count": 11,
     "metadata": {},
     "output_type": "execute_result"
    }
   ],
   "source": [
    "df_runs.head()"
   ]
  },
  {
   "cell_type": "code",
   "execution_count": null,
   "id": "e610018f",
   "metadata": {},
   "outputs": [],
   "source": []
  }
 ],
 "metadata": {
  "kernelspec": {
   "display_name": "Python 3 (ipykernel)",
   "language": "python",
   "name": "python3"
  },
  "kubeflow_notebook": {
   "autosnapshot": false,
   "docker_image": "",
   "experiment": {
    "id": "",
    "name": ""
   },
   "experiment_name": "",
   "katib_run": false,
   "pipeline_description": "",
   "pipeline_name": "",
   "snapshot_volumes": false,
   "steps_defaults": [],
   "volume_access_mode": "rwm",
   "volumes": []
  },
  "language_info": {
   "codemirror_mode": {
    "name": "ipython",
    "version": 3
   },
   "file_extension": ".py",
   "mimetype": "text/x-python",
   "name": "python",
   "nbconvert_exporter": "python",
   "pygments_lexer": "ipython3",
   "version": "3.9.7"
  }
 },
 "nbformat": 4,
 "nbformat_minor": 5
}
