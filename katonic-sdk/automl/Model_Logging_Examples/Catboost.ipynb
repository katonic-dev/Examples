{
 "cells": [
  {
   "cell_type": "code",
   "execution_count": 1,
   "id": "63da9664-b803-4a52-80fe-683b144f32b2",
   "metadata": {},
   "outputs": [],
   "source": [
    "from catboost import CatBoostClassifier\n",
    "from sklearn.model_selection import train_test_split\n",
    "from sklearn.datasets import load_iris\n",
    "\n",
    "from sklearn.metrics import accuracy_score, recall_score, f1_score, precision_score\n",
    "from katonic.ml import MyClient"
   ]
  },
  {
   "cell_type": "code",
   "execution_count": 2,
   "id": "979f13ac-5420-4384-85d0-2041727cab9a",
   "metadata": {},
   "outputs": [],
   "source": [
    "myclient = MyClient()\n",
    "mlflow = myclient.mlflow\n",
    "client = myclient.client"
   ]
  },
  {
   "cell_type": "code",
   "execution_count": 3,
   "id": "750ef618-492a-48c9-9a73-b8349494afb3",
   "metadata": {},
   "outputs": [],
   "source": [
    "def metric(actual, pred):\n",
    "    acc_score = accuracy_score(actual, pred)\n",
    "    recall = recall_score(actual, pred, average='weighted')\n",
    "    precision_scr = precision_score(actual, pred, average='weighted')\n",
    "    f1_scr = f1_score(actual, pred, average='weighted')\n",
    "    \n",
    "    return (\n",
    "        acc_score,\n",
    "        recall,\n",
    "        f1_scr,\n",
    "        precision_scr\n",
    "    )"
   ]
  },
  {
   "cell_type": "code",
   "execution_count": 10,
   "id": "1cbc0904-4ecc-425d-bc55-3805a8206400",
   "metadata": {},
   "outputs": [],
   "source": [
    "exp_name = \"mlflow-test-catboost\"\n",
    "mlflow.set_experiment(exp_name)\n",
    "exp_details = mlflow.get_experiment_by_name(exp_name)\n",
    "\n",
    "data = load_iris()\n",
    "feature_names = [\n",
    "    name.replace(\" \", \"_\").replace(\"(\", \"\").replace(\")\", \"\")\n",
    "    for name in data[\"feature_names\"]\n",
    "]\n",
    "X_train, X_test, y_train, y_test = train_test_split(\n",
    "    data[\"data\"], data[\"target\"], test_size=0.2\n",
    ")\n",
    "\n",
    "with mlflow.start_run(run_name=exp_name):\n",
    "    kwargs = {}\n",
    "    kwargs['iterations']=100\n",
    "    kwargs['depth']=6\n",
    "    kwargs['learning_rate']=0.1\n",
    "    kwargs['loss_function']='MultiClass',\n",
    "    kwargs['verbose']=False\n",
    "\n",
    "    model = CatBoostClassifier(\n",
    "        iterations=100, depth=6, learning_rate=0.1,\n",
    "        loss_function='MultiClass', verbose=False)\n",
    "    model.fit(X_train, y_train)\n",
    "    mlflow.log_param(\"iterations\", 100)\n",
    "\n",
    "    y_pred = model.predict(X_test)\n",
    "\n",
    "    (acc_score, recall, f1_scr, precision_scr) = metric(y_test, y_pred)\n",
    "\n",
    "    model_metrics = {\n",
    "        \"accuracy_score\": acc_score,\n",
    "        \"recall\": recall,\n",
    "        \"f1_score\": f1_scr,\n",
    "        \"precision_score\": precision_scr\n",
    "    }\n",
    "    for k, v in kwargs.items():\n",
    "        mlflow.log_param(k, v)\n",
    "    for metric_name, score in model_metrics.items():\n",
    "        mlflow.log_metric(metric_name, score)\n",
    "\n",
    "    model_info = mlflow.catboost.log_model(cb_model=model, artifact_path=\"model\")\n",
    "    "
   ]
  },
  {
   "cell_type": "code",
   "execution_count": null,
   "id": "bd7eb045-29a7-459a-b782-1d4aedb5ff4e",
   "metadata": {},
   "outputs": [],
   "source": []
  }
 ],
 "metadata": {
  "kernelspec": {
   "display_name": "Python 3 (ipykernel)",
   "language": "python",
   "name": "python3"
  },
  "language_info": {
   "codemirror_mode": {
    "name": "ipython",
    "version": 3
   },
   "file_extension": ".py",
   "mimetype": "text/x-python",
   "name": "python",
   "nbconvert_exporter": "python",
   "pygments_lexer": "ipython3",
   "version": "3.9.7"
  }
 },
 "nbformat": 4,
 "nbformat_minor": 5
}
