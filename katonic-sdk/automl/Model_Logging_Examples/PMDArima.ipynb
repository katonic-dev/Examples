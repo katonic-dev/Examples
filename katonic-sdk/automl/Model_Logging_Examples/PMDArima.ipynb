{
 "cells": [
  {
   "cell_type": "code",
   "execution_count": 4,
   "id": "39e4d163-2b01-41bf-a980-2490fd39d649",
   "metadata": {},
   "outputs": [
    {
     "name": "stdout",
     "output_type": "stream",
     "text": [
      "\u001b[33mWARNING: The directory '/home/jovyan/.cache/pip' or its parent directory is not owned or is not writable by the current user. The cache has been disabled. Check the permissions and owner of that directory. If executing pip with sudo, you should use sudo's -H flag.\u001b[0m\n",
      "\u001b[33mWARNING: Running pip as the 'root' user can result in broken permissions and conflicting behaviour with the system package manager. It is recommended to use a virtual environment instead: https://pip.pypa.io/warnings/venv\u001b[0m\n"
     ]
    }
   ],
   "source": [
    "!pip install pmdarima -q"
   ]
  },
  {
   "cell_type": "code",
   "execution_count": 5,
   "id": "63da9664-b803-4a52-80fe-683b144f32b2",
   "metadata": {},
   "outputs": [],
   "source": [
    "from katonic.ml import MyClient\n",
    "import os\n",
    "import numpy as np\n",
    "import pmdarima as pm\n",
    "from pmdarima.datasets import load_wineind"
   ]
  },
  {
   "cell_type": "code",
   "execution_count": 7,
   "id": "979f13ac-5420-4384-85d0-2041727cab9a",
   "metadata": {},
   "outputs": [],
   "source": [
    "myclient = MyClient()\n",
    "mlflow = myclient.mlflow\n",
    "client = myclient.client"
   ]
  },
  {
   "cell_type": "code",
   "execution_count": 8,
   "id": "12eea338-a90c-4ac3-b932-64eb6f3ac209",
   "metadata": {},
   "outputs": [],
   "source": [
    "wineind = load_wineind().astype(np.float64)"
   ]
  },
  {
   "cell_type": "code",
   "execution_count": 10,
   "id": "1cbc0904-4ecc-425d-bc55-3805a8206400",
   "metadata": {},
   "outputs": [
    {
     "name": "stdout",
     "output_type": "stream",
     "text": [
      "Performing stepwise search to minimize aic\n",
      " ARIMA(1,1,1)(0,1,1)[12]             : AIC=3066.492, Time=0.46 sec\n",
      " ARIMA(0,1,0)(0,1,0)[12]             : AIC=3131.408, Time=0.03 sec\n",
      " ARIMA(1,1,0)(1,1,0)[12]             : AIC=3097.884, Time=0.15 sec\n",
      " ARIMA(0,1,1)(0,1,1)[12]             : AIC=3066.329, Time=0.17 sec\n",
      " ARIMA(0,1,1)(0,1,0)[12]             : AIC=3089.456, Time=0.06 sec\n",
      " ARIMA(0,1,1)(1,1,1)[12]             : AIC=3067.457, Time=0.33 sec\n",
      " ARIMA(0,1,1)(0,1,2)[12]             : AIC=3067.481, Time=0.38 sec\n",
      " ARIMA(0,1,1)(1,1,0)[12]             : AIC=3071.631, Time=0.18 sec\n",
      " ARIMA(0,1,1)(1,1,2)[12]             : AIC=inf, Time=2.08 sec\n",
      " ARIMA(0,1,0)(0,1,1)[12]             : AIC=3117.921, Time=0.29 sec\n",
      " ARIMA(0,1,2)(0,1,1)[12]             : AIC=3065.533, Time=0.27 sec\n",
      " ARIMA(0,1,2)(0,1,0)[12]             : AIC=3087.883, Time=0.10 sec\n",
      " ARIMA(0,1,2)(1,1,1)[12]             : AIC=3066.239, Time=0.41 sec\n",
      " ARIMA(0,1,2)(0,1,2)[12]             : AIC=3066.373, Time=0.65 sec\n",
      " ARIMA(0,1,2)(1,1,0)[12]             : AIC=3070.728, Time=0.25 sec\n",
      " ARIMA(0,1,2)(1,1,2)[12]             : AIC=inf, Time=1.76 sec\n",
      " ARIMA(1,1,2)(0,1,1)[12]             : AIC=3066.424, Time=0.51 sec\n",
      " ARIMA(0,1,3)(0,1,1)[12]             : AIC=3066.351, Time=0.51 sec\n",
      " ARIMA(1,1,3)(0,1,1)[12]             : AIC=3068.295, Time=1.00 sec\n",
      " ARIMA(0,1,2)(0,1,1)[12] intercept   : AIC=3066.787, Time=0.25 sec\n",
      "\n",
      "Best model:  ARIMA(0,1,2)(0,1,1)[12]          \n",
      "Total fit time: 9.868 seconds\n"
     ]
    }
   ],
   "source": [
    "exp_name = \"mlflow-test-PMDArima\"\n",
    "mlflow.set_experiment(exp_name)\n",
    "exp_details = mlflow.get_experiment_by_name(exp_name)\n",
    "params = {\n",
    "    'start_p':1, \n",
    "    'start_q':1, \n",
    "    'max_p':3, \n",
    "    'max_q':3, \n",
    "    'm':12,\n",
    "    'start_P':0, \n",
    "    'seasonal':True, \n",
    "    'd':1, \n",
    "    'D':1, \n",
    "    'trace':True,\n",
    "    'error_action':'ignore', \n",
    "    'suppress_warnings':True,\n",
    "    'stepwise':True\n",
    "}\n",
    "with mlflow.start_run(run_name=exp_name):\n",
    "    stepwise_fit = pm.auto_arima(wineind, **params)  # set to stepwise\n",
    "    mlflow.log_params(params)\n",
    "    model_info = mlflow.pmdarima.log_model(stepwise_fit, artifact_path=\"model\")\n",
    "    "
   ]
  },
  {
   "cell_type": "code",
   "execution_count": null,
   "id": "a67bfd96-4ab2-4387-b113-10215c9f6bf3",
   "metadata": {},
   "outputs": [],
   "source": []
  }
 ],
 "metadata": {
  "kernelspec": {
   "display_name": "Python 3 (ipykernel)",
   "language": "python",
   "name": "python3"
  },
  "language_info": {
   "codemirror_mode": {
    "name": "ipython",
    "version": 3
   },
   "file_extension": ".py",
   "mimetype": "text/x-python",
   "name": "python",
   "nbconvert_exporter": "python",
   "pygments_lexer": "ipython3",
   "version": "3.9.7"
  }
 },
 "nbformat": 4,
 "nbformat_minor": 5
}
