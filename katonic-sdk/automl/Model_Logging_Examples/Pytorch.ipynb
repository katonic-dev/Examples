{
 "cells": [
  {
   "cell_type": "code",
   "execution_count": null,
   "id": "1b2fdfbc-f873-41d7-ad4c-368455cce680",
   "metadata": {},
   "outputs": [],
   "source": [
    "!pip install torch==1.12.1. -q\n",
    "!pip install typing_extensions==3.10.0 -q\n",
    "!pip install pytorch-lightning==1.7.7  torchmetrics==0.11.4 -q"
   ]
  },
  {
   "cell_type": "code",
   "execution_count": 1,
   "id": "63da9664-b803-4a52-80fe-683b144f32b2",
   "metadata": {},
   "outputs": [],
   "source": [
    "from katonic.ml import MyClient\n",
    "import os\n",
    "import numpy as np\n",
    "\n",
    "import torch\n",
    "from torch import nn\n",
    "\n",
    "from sklearn.metrics import mean_absolute_error, mean_squared_error, r2_score\n",
    "from sklearn.model_selection import train_test_split\n",
    "import pandas as pd"
   ]
  },
  {
   "cell_type": "code",
   "execution_count": 2,
   "id": "979f13ac-5420-4384-85d0-2041727cab9a",
   "metadata": {},
   "outputs": [],
   "source": [
    "myclient = MyClient()\n",
    "mlflow = myclient.mlflow\n",
    "client = myclient.client"
   ]
  },
  {
   "cell_type": "code",
   "execution_count": 3,
   "id": "fdc23efe-482a-47a7-b807-0af0dc7a18f7",
   "metadata": {},
   "outputs": [],
   "source": [
    "def eval_metrics(actual, pred):\n",
    "    rmse = np.sqrt(mean_squared_error(actual, pred))\n",
    "    mae = mean_absolute_error(actual, pred)\n",
    "    r2 = r2_score(actual, pred)\n",
    "    return rmse, mae, r2"
   ]
  },
  {
   "cell_type": "code",
   "execution_count": 4,
   "id": "1cbc0904-4ecc-425d-bc55-3805a8206400",
   "metadata": {},
   "outputs": [
    {
     "name": "stderr",
     "output_type": "stream",
     "text": [
      "/opt/conda/lib/python3.9/site-packages/_distutils_hack/__init__.py:33: UserWarning: Setuptools is replacing distutils.\n",
      "  warnings.warn(\"Setuptools is replacing distutils.\")\n"
     ]
    }
   ],
   "source": [
    "mlflow.pytorch.autolog()\n",
    "net = nn.Linear(11, 1)\n",
    "loss_function = nn.L1Loss()\n",
    "optimizer = torch.optim.Adam(net.parameters(), lr=1e-4)\n",
    "\n",
    "csv_url = (\n",
    "    \"https://raw.githubusercontent.com/mlflow/mlflow/master/tests/datasets/winequality-red.csv\"\n",
    ")\n",
    "data = pd.read_csv(csv_url, sep=\";\")\n",
    "train, test = train_test_split(data)\n",
    "\n",
    "# The predicted column is \"quality\" which is a scalar from [3, 9]\n",
    "train_x = train.drop([\"quality\"], axis=1)\n",
    "test_x = test.drop([\"quality\"], axis=1)\n",
    "train_y = train[[\"quality\"]]\n",
    "test_y = test[[\"quality\"]]\n",
    "\n",
    "train_x = torch.tensor(train_x.values.astype(np.float32))\n",
    "train_y = torch.tensor(train_y.values.astype(np.float32))\n",
    "test_x = torch.tensor(test_x.values.astype(np.float32))\n",
    "#test_y = torch.tensor(test_y.values.astype(np.float32))\n",
    "\n",
    "epochs = 5\n",
    "for epoch in range(epochs):\n",
    "    optimizer.zero_grad()\n",
    "    outputs = net(train_x)\n",
    "    loss = loss_function(outputs, train_y)\n",
    "    loss.backward()\n",
    "    optimizer.step()\n",
    "\n",
    "exp_name = \"mlflow-test-torch\"\n",
    "mlflow.set_experiment(exp_name)\n",
    "exp_details = mlflow.get_experiment_by_name(exp_name)\n",
    "with mlflow.start_run(run_name=exp_name):\n",
    "\n",
    "    predictions = pd.DataFrame(net(test_x).detach().numpy())\n",
    "    (rmse, mae, r2) = eval_metrics(test_y, predictions)\n",
    "\n",
    "    mlflow.log_metric(\"rmse\", rmse)\n",
    "    mlflow.log_metric(\"r2\", r2)\n",
    "    mlflow.log_metric(\"mae\", mae)    \n",
    "    model_info = mlflow.pytorch.log_model(net, \"model\")\n"
   ]
  },
  {
   "cell_type": "code",
   "execution_count": null,
   "id": "68dbc5b5-ba48-4652-a660-667539d6efbc",
   "metadata": {},
   "outputs": [],
   "source": []
  },
  {
   "cell_type": "code",
   "execution_count": null,
   "id": "59949435-00c2-4380-a592-547666d05cf5",
   "metadata": {},
   "outputs": [],
   "source": []
  }
 ],
 "metadata": {
  "kernelspec": {
   "display_name": "Python 3 (ipykernel)",
   "language": "python",
   "name": "python3"
  },
  "language_info": {
   "codemirror_mode": {
    "name": "ipython",
    "version": 3
   },
   "file_extension": ".py",
   "mimetype": "text/x-python",
   "name": "python",
   "nbconvert_exporter": "python",
   "pygments_lexer": "ipython3",
   "version": "3.9.7"
  }
 },
 "nbformat": 4,
 "nbformat_minor": 5
}
