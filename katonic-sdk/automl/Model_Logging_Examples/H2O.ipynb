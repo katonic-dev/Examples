{
 "cells": [
  {
   "cell_type": "code",
   "execution_count": null,
   "id": "07523588-ac39-4bd1-b393-bc0f24736dcf",
   "metadata": {},
   "outputs": [],
   "source": [
    "!sudo apt update\n",
    "!sudo apt install default-jdk\n",
    "!sudo apt install default-jre\n",
    "!pip install h2o"
   ]
  },
  {
   "cell_type": "code",
   "execution_count": 5,
   "id": "63da9664-b803-4a52-80fe-683b144f32b2",
   "metadata": {},
   "outputs": [
    {
     "name": "stdout",
     "output_type": "stream",
     "text": [
      "Checking whether there is an H2O instance running at http://localhost:54321..... not found.\n",
      "Attempting to start a local H2O server...\n",
      "  Java Version: openjdk version \"11.0.20.1\" 2023-08-24; OpenJDK Runtime Environment (build 11.0.20.1+1-post-Ubuntu-0ubuntu120.04); OpenJDK 64-Bit Server VM (build 11.0.20.1+1-post-Ubuntu-0ubuntu120.04, mixed mode, sharing)\n",
      "  Starting server from /opt/conda/lib/python3.9/site-packages/h2o/backend/bin/h2o.jar\n",
      "  Ice root: /tmp/tmp9m11nlo5\n",
      "  JVM stdout: /tmp/tmp9m11nlo5/h2o_unknownUser_started_from_python.out\n",
      "  JVM stderr: /tmp/tmp9m11nlo5/h2o_unknownUser_started_from_python.err\n",
      "  Server is running at http://127.0.0.1:54321\n",
      "Connecting to H2O server at http://127.0.0.1:54321 ... successful.\n"
     ]
    },
    {
     "data": {
      "text/html": [
       "\n",
       "<style>\n",
       "\n",
       "#h2o-table-1.h2o-container {\n",
       "  overflow-x: auto;\n",
       "}\n",
       "#h2o-table-1 .h2o-table {\n",
       "  /* width: 100%; */\n",
       "  margin-top: 1em;\n",
       "  margin-bottom: 1em;\n",
       "}\n",
       "#h2o-table-1 .h2o-table caption {\n",
       "  white-space: nowrap;\n",
       "  caption-side: top;\n",
       "  text-align: left;\n",
       "  /* margin-left: 1em; */\n",
       "  margin: 0;\n",
       "  font-size: larger;\n",
       "}\n",
       "#h2o-table-1 .h2o-table thead {\n",
       "  white-space: nowrap; \n",
       "  position: sticky;\n",
       "  top: 0;\n",
       "  box-shadow: 0 -1px inset;\n",
       "}\n",
       "#h2o-table-1 .h2o-table tbody {\n",
       "  overflow: auto;\n",
       "}\n",
       "#h2o-table-1 .h2o-table th,\n",
       "#h2o-table-1 .h2o-table td {\n",
       "  text-align: right;\n",
       "  /* border: 1px solid; */\n",
       "}\n",
       "#h2o-table-1 .h2o-table tr:nth-child(even) {\n",
       "  /* background: #F5F5F5 */\n",
       "}\n",
       "\n",
       "</style>      \n",
       "<div id=\"h2o-table-1\" class=\"h2o-container\">\n",
       "  <table class=\"h2o-table\">\n",
       "    <caption></caption>\n",
       "    <thead></thead>\n",
       "    <tbody><tr><td>H2O_cluster_uptime:</td>\n",
       "<td>01 secs</td></tr>\n",
       "<tr><td>H2O_cluster_timezone:</td>\n",
       "<td>Etc/UTC</td></tr>\n",
       "<tr><td>H2O_data_parsing_timezone:</td>\n",
       "<td>UTC</td></tr>\n",
       "<tr><td>H2O_cluster_version:</td>\n",
       "<td>3.44.0.1</td></tr>\n",
       "<tr><td>H2O_cluster_version_age:</td>\n",
       "<td>8 days</td></tr>\n",
       "<tr><td>H2O_cluster_name:</td>\n",
       "<td>H2O_from_python_unknownUser_bv5wjh</td></tr>\n",
       "<tr><td>H2O_cluster_total_nodes:</td>\n",
       "<td>1</td></tr>\n",
       "<tr><td>H2O_cluster_free_memory:</td>\n",
       "<td>7.812 Gb</td></tr>\n",
       "<tr><td>H2O_cluster_total_cores:</td>\n",
       "<td>8</td></tr>\n",
       "<tr><td>H2O_cluster_allowed_cores:</td>\n",
       "<td>8</td></tr>\n",
       "<tr><td>H2O_cluster_status:</td>\n",
       "<td>locked, healthy</td></tr>\n",
       "<tr><td>H2O_connection_url:</td>\n",
       "<td>http://127.0.0.1:54321</td></tr>\n",
       "<tr><td>H2O_connection_proxy:</td>\n",
       "<td>{\"http\": null, \"https\": null}</td></tr>\n",
       "<tr><td>H2O_internal_security:</td>\n",
       "<td>False</td></tr>\n",
       "<tr><td>Python_version:</td>\n",
       "<td>3.9.7 final</td></tr></tbody>\n",
       "  </table>\n",
       "</div>\n"
      ],
      "text/plain": [
       "--------------------------  ----------------------------------\n",
       "H2O_cluster_uptime:         01 secs\n",
       "H2O_cluster_timezone:       Etc/UTC\n",
       "H2O_data_parsing_timezone:  UTC\n",
       "H2O_cluster_version:        3.44.0.1\n",
       "H2O_cluster_version_age:    8 days\n",
       "H2O_cluster_name:           H2O_from_python_unknownUser_bv5wjh\n",
       "H2O_cluster_total_nodes:    1\n",
       "H2O_cluster_free_memory:    7.812 Gb\n",
       "H2O_cluster_total_cores:    8\n",
       "H2O_cluster_allowed_cores:  8\n",
       "H2O_cluster_status:         locked, healthy\n",
       "H2O_connection_url:         http://127.0.0.1:54321\n",
       "H2O_connection_proxy:       {\"http\": null, \"https\": null}\n",
       "H2O_internal_security:      False\n",
       "Python_version:             3.9.7 final\n",
       "--------------------------  ----------------------------------"
      ]
     },
     "metadata": {},
     "output_type": "display_data"
    }
   ],
   "source": [
    "import h2o\n",
    "h2o.init()\n",
    "from h2o.estimators.glm import H2OGeneralizedLinearEstimator\n",
    "from sklearn.metrics import accuracy_score, recall_score, f1_score, precision_score\n",
    "from katonic.ml import MyClient"
   ]
  },
  {
   "cell_type": "code",
   "execution_count": 6,
   "id": "979f13ac-5420-4384-85d0-2041727cab9a",
   "metadata": {},
   "outputs": [],
   "source": [
    "myclient = MyClient()\n",
    "mlflow = myclient.mlflow\n",
    "client = myclient.client"
   ]
  },
  {
   "cell_type": "code",
   "execution_count": 7,
   "id": "750ef618-492a-48c9-9a73-b8349494afb3",
   "metadata": {},
   "outputs": [],
   "source": [
    "def metric(actual, pred):\n",
    "    acc_score = accuracy_score(actual, pred)\n",
    "    recall = recall_score(actual, pred, average='weighted')\n",
    "    precision_scr = precision_score(actual, pred, average='weighted')\n",
    "    f1_scr = f1_score(actual, pred, average='weighted')\n",
    "    \n",
    "    return (\n",
    "        acc_score,\n",
    "        recall,\n",
    "        f1_scr,\n",
    "        precision_scr\n",
    "    )"
   ]
  },
  {
   "cell_type": "code",
   "execution_count": 21,
   "id": "1cbc0904-4ecc-425d-bc55-3805a8206400",
   "metadata": {},
   "outputs": [
    {
     "name": "stderr",
     "output_type": "stream",
     "text": [
      "2023/10/25 05:54:15 INFO mlflow.tracking.fluent: Experiment with name 'mlflow-test-h2o' does not exist. Creating a new experiment.\n"
     ]
    },
    {
     "name": "stdout",
     "output_type": "stream",
     "text": [
      "Parse progress: |████████████████████████████████████████████████████████████████| (done) 100%\n",
      "glm Model Build progress: |██████████████████████████████████████████████████████| (done) 100%\n",
      "glm prediction progress: |███████████████████████████████████████████████████████| (done) 100%\n"
     ]
    }
   ],
   "source": [
    "exp_name = \"mlflow-test-h2o\"\n",
    "mlflow.set_experiment(exp_name)\n",
    "exp_details = mlflow.get_experiment_by_name(exp_name)\n",
    "\n",
    "prostate = h2o.import_file(\"https://h2o-public-test-data.s3.amazonaws.com/smalldata/prostate/prostate.csv\")\n",
    "\n",
    "# convert columns to factors\n",
    "prostate['CAPSULE'] = prostate['CAPSULE'].asfactor()\n",
    "prostate['RACE'] = prostate['RACE'].asfactor()\n",
    "prostate['DCAPS'] = prostate['DCAPS'].asfactor()\n",
    "prostate['DPROS'] = prostate['DPROS'].asfactor()\n",
    "\n",
    "# set the predictor and response columns\n",
    "predictors = [\"AGE\", \"RACE\", \"VOL\", \"GLEASON\"]\n",
    "response_col = \"CAPSULE\"\n",
    "kwargs = {\n",
    "    'family':'binomial',\n",
    "    'lambda':0,\n",
    "    'compute_p_values':True,\n",
    "}\n",
    "# split into train and testing sets\n",
    "train, test = prostate.split_frame(ratios = [0.8], seed = 1234)\n",
    "with mlflow.start_run(run_name=exp_name):\n",
    "    glm_model = H2OGeneralizedLinearEstimator(family= \"binomial\",\n",
    "                                          lambda_ = 0,\n",
    "                                          compute_p_values = True)\n",
    "    glm_model.train(predictors, response_col, training_frame= prostate)\n",
    "\n",
    "    y_pred = glm_model.predict(test)\n",
    "\n",
    "\n",
    "    (acc_score, recall, f1_scr, precision_scr) = metric(test[\"CAPSULE\"].as_data_frame(), y_pred['predict'].as_data_frame())\n",
    "\n",
    "    model_metrics = {\n",
    "        \"accuracy_score\": acc_score,\n",
    "        \"recall\": recall,\n",
    "        \"f1_score\": f1_scr,\n",
    "        \"precision_score\": precision_scr\n",
    "    }\n",
    "    for k, v in kwargs.items():\n",
    "        mlflow.log_param(k, v)\n",
    "    for metric_name, score in model_metrics.items():\n",
    "        mlflow.log_metric(metric_name, score)\n",
    "\n",
    "    model_info = mlflow.h2o.log_model(h2o_model=glm_model, artifact_path=\"model\")\n",
    "    "
   ]
  },
  {
   "cell_type": "code",
   "execution_count": null,
   "id": "bd7eb045-29a7-459a-b782-1d4aedb5ff4e",
   "metadata": {},
   "outputs": [],
   "source": []
  },
  {
   "cell_type": "code",
   "execution_count": null,
   "id": "0b06828b-25f3-49f7-a870-aa87364635bc",
   "metadata": {},
   "outputs": [],
   "source": []
  }
 ],
 "metadata": {
  "kernelspec": {
   "display_name": "Python 3 (ipykernel)",
   "language": "python",
   "name": "python3"
  },
  "language_info": {
   "codemirror_mode": {
    "name": "ipython",
    "version": 3
   },
   "file_extension": ".py",
   "mimetype": "text/x-python",
   "name": "python",
   "nbconvert_exporter": "python",
   "pygments_lexer": "ipython3",
   "version": "3.9.7"
  }
 },
 "nbformat": 4,
 "nbformat_minor": 5
}
